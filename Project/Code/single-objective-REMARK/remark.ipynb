{
 "cells": [
  {
   "cell_type": "code",
   "execution_count": 6,
   "metadata": {
    "collapsed": false
   },
   "outputs": [],
   "source": [
    "import numpy as np\n",
    "# import pandas as pd"
   ]
  },
  {
   "cell_type": "code",
   "execution_count": 7,
   "metadata": {
    "collapsed": false
   },
   "outputs": [],
   "source": [
    "def objective_function(location):\n",
    "    return np.sum(location**2)\n",
    "\n",
    "def denorm(data, domain):\n",
    "    domain.sort()\n",
    "    return data * (domain[:, 1] - domain[:, 0]) + domain[:, 0] # data * (max - min) + min"
   ]
  },
  {
   "cell_type": "code",
   "execution_count": 8,
   "metadata": {
    "collapsed": false
   },
   "outputs": [],
   "source": [
    "class Property:\n",
    "    def __init__(self, location, objective_function, domain, price=None, demand=None, supply=None):\n",
    "        self.location = location\n",
    "        self.objective_function = objective_function\n",
    "        self.domain = domain\n",
    "        self.price = price\n",
    "        self.demand = demand\n",
    "        self.supply = supply\n",
    "\n",
    "    def value(self):\n",
    "        return self.objective_function(denorm(self.location, self.domain))"
   ]
  },
  {
   "cell_type": "code",
   "execution_count": 9,
   "outputs": [],
   "source": [
    "class Supplier:\n",
    "    def __int__(self, current_location):\n",
    "        self.current_location = current_location\n",
    "\n",
    "    def  move(self, ideal_property, max_value, min_value, n_supplier, k_sigma_s):\n",
    "        norm_value = (ideal_property.value  - min_value)/(max_value - min_value)\n",
    "        q_supply = (1 - norm_value)/(n_supplier + 1)\n",
    "        # next_location_mean = self.next_location.location\n",
    "        # next_location_std = k_sigma_s * abs(self.next_location.price) * np.sqrt(-2*np.log(self.purchase_power))\n",
    "        new_location = np.copy(np.random.normal(ideal_property.location, k_sigma_s*q_supply))\n",
    "        new_location[new_location>1] = 1\n",
    "        new_location[new_location<0] = 0\n",
    "        self.current_location.location = np.copy(new_location)"
   ],
   "metadata": {
    "collapsed": false
   }
  },
  {
   "cell_type": "code",
   "execution_count": 10,
   "metadata": {
    "collapsed": false
   },
   "outputs": [],
   "source": [
    "class Demander:\n",
    "    def __init__(self, current_location, objective_function,\n",
    "                 friend=None, best_location=None, next_location=None, purchase_power=None):\n",
    "        self.current_location = current_location\n",
    "        if best_location is None:\n",
    "            self.best_location = Property(np.copy(current_location.location), current_location.objective_function, current_location.domain)\n",
    "        else:\n",
    "            self.best_location = best_location\n",
    "        if next_location is None:\n",
    "            self.next_location = Property(np.copy(current_location.location), current_location.objective_function, current_location.domain)\n",
    "        else:\n",
    "            self.next_location = next_location\n",
    "        self.objective_function = objective_function\n",
    "        if friend is None:\n",
    "            self.friend = []\n",
    "        else:\n",
    "            self.friend = friend\n",
    "        if purchase_power is None:\n",
    "            self.purchase_power = np.random.rand()\n",
    "\n",
    "    def add_friend(self, demander_friend):\n",
    "        self.friend.append(demander_friend)\n",
    "\n",
    "    def move(self):\n",
    "        self.current_location = self.next_location\n",
    "        if self.next_location.value() > self.best_location.value():\n",
    "            self.best_location = self.current_location\n",
    "\n",
    "    def communication(self, k_sigma_d):\n",
    "        self.next_location = Property(location=np.copy(self.best_location.location), objective_function=self.best_location.objective_function, domain=self.best_location.domain, price=self.best_location.price)\n",
    "\n",
    "        for i in self.friend:\n",
    "            if i.best_location.value > self.best_location.value:\n",
    "                self.next_location = Property(np.copy(i.best_location.location), i.best_location.objective_function, i.best_location.domain)\n",
    "\n",
    "        next_location_mean = self.next_location.location\n",
    "        next_location_std = k_sigma_d * abs(self.next_location.price) * np.sqrt(-2*np.log(self.purchase_power))\n",
    "\n",
    "        new_location = np.random.normal(next_location_mean, next_location_std)\n",
    "        new_location[new_location>1] = 1\n",
    "        new_location[new_location<0] = 0\n",
    "\n",
    "        self.next_location = Property(np.copy(new_location), i.best_location.objective_function, i.best_location.domain)"
   ]
  },
  {
   "cell_type": "code",
   "execution_count": 13,
   "outputs": [],
   "source": [
    "class Market:\n",
    "    def __init__(self, objective_function, domain, demander_number, supplier_number, max_friends, characteristics_length, k_sigma_d, k_sigma_s, k_num_s, demanders=None, suppliers = None):\n",
    "        self.max_friends = max_friends\n",
    "        dimension = len(domain)\n",
    "        if demanders is None:\n",
    "            self.demanders = [Demander(Property(np.random.uniform(size=(dimension,)), objective_function, domain), objective_function) for _ in range(demander_number)]\n",
    "        else:\n",
    "            self.demanders = demanders\n",
    "        if suppliers is None:\n",
    "            self.suppliers = [suppliers(Property(np.random.uniform(size=(dimension,)), objective_function, domain)) for _ in range(demander_number)]\n",
    "        else:\n",
    "            self.suppliers = suppliers\n",
    "        self.characteristics_length = characteristics_length\n",
    "        self.k_sigma_d = k_sigma_d\n",
    "        self.k_num_s = k_num_s\n",
    "        self.k_sigma_s = k_sigma_s\n",
    "\n",
    "    def make_friend(self):\n",
    "        for i in self.demanders:\n",
    "            i.friend = []\n",
    "            [i.add_friend(np.copy(j)) for j in self.demanders[np.random.choice(len(self.demanders), size=self.max_friends, replace=False)]]\n",
    "\n",
    "    def demand_evaluation(self):\n",
    "        occupied_property = []\n",
    "        [occupied_property.append(np.copy(i.current_location.location)) for i in self.demanders]\n",
    "        for i in self.demanders:\n",
    "            i.current_location.demand = (1/self.characteristics_length/len(self.demanders)) * sum(self.characteristics_length - np.sqrt(np.sum((i.current_location.loc - occupied_property)**2)))\n",
    "            i.best_location.demand = np.copy(i.current_location.demand) #### bug in sum(self.characteristics_length - np.sqrt(np.sum((i.current_location.loc - occupied_property)**2))) calculation dont have bug but check in debug\n",
    "\n",
    "    def supply_evaluation(self):\n",
    "        occupied_property = []\n",
    "        [occupied_property.append(np.copy(i.current_location.location)) for i in self.suppliers]\n",
    "        for i in self.demanders:\n",
    "            i.current_location.demand = (1/self.characteristics_length/len(self.suppliers)) * sum(self.characteristics_length - np.sqrt(np.sum((i.current_location.loc - occupied_property)**2)))\n",
    "            i.best_location.demand = np.copy(i.current_location.demand)\n",
    "\n",
    "    def price_evaluation(self):\n",
    "        self.demand_evaluation()\n",
    "        self.supply_evaluation()\n",
    "        for i in self.demanders:\n",
    "            i.current_location.price = i.current_location.demand - i.current_location.supply\n",
    "            i.best_location.price = i.best_location.demand - i.best_location.supply\n",
    "\n",
    "    def demander_update(self):\n",
    "        for i in self.demanders:\n",
    "            i.communication(self.k_sigma_d)\n",
    "            i.move()\n",
    "\n",
    "    def supplier_update(self):\n",
    "        n_supplier = np.ceil(self.k_num_s*len(self.suppliers))\n",
    "        # selected = randi(length(obj.spl), 1, nSupplier);\n",
    "        # selected_supplier = np.array([np.copy(i) for i in self.suppliers[np.random.choice(len(self.suppliers), size=self.max_friends, replace=False)]])\n",
    "        max_value = -np.inf\n",
    "        max_price = -np.inf\n",
    "        min_value =  np.inf\n",
    "\n",
    "        for i in self.demanders:\n",
    "            if i.best_location.value > max_value:\n",
    "                max_value = np.copy(i.best_location.value)\n",
    "            if i.current_location.value > max_value:\n",
    "                max_value = np.copy(i.current_location.value)\n",
    "            if i.best_location.value < min_value:\n",
    "                min_value = np.copy(i.best_location.value)\n",
    "            if i.current_location.value < min_value:\n",
    "                min_value = np.copy(i.current_location.value)\n",
    "            if i.current_location.price > max_price:\n",
    "                max_price = np.copy(i.current_location.price)\n",
    "                ideal_property = i.current_location\n",
    "            if i.best_location.price > max_price:\n",
    "                max_price = np.copy(i.best_location.price)\n",
    "                ideal_property = i.best_location\n",
    "\n",
    "\n",
    "        [i.move(ideal_property, max_value, min_value, n_supplier, self.k_sigma_s) for i in self.suppliers[np.random.choice(len(self.suppliers), size=self.max_friends, replace=False)]]"
   ],
   "metadata": {
    "collapsed": false
   }
  },
  {
   "cell_type": "code",
   "execution_count": 14,
   "metadata": {
    "collapsed": false
   },
   "outputs": [
    {
     "ename": "TypeError",
     "evalue": "'NoneType' object is not callable",
     "output_type": "error",
     "traceback": [
      "\u001B[0;31m---------------------------------------------------------------------------\u001B[0m",
      "\u001B[0;31mTypeError\u001B[0m                                 Traceback (most recent call last)",
      "Cell \u001B[0;32mIn[14], line 7\u001B[0m\n\u001B[1;32m      5\u001B[0m p_1 \u001B[38;5;241m=\u001B[39m Property(location, objective_function, domain)\n\u001B[1;32m      6\u001B[0m  \u001B[38;5;66;03m# objective_function, domain, demander_number, supplier_number, max_friends, characteristics_length, k_sigma_d, k_sigma_s, k_num_s, demanders=None, suppliers = None):\u001B[39;00m\n\u001B[0;32m----> 7\u001B[0m market \u001B[38;5;241m=\u001B[39m \u001B[43mMarket\u001B[49m\u001B[43m(\u001B[49m\u001B[43mobjective_function\u001B[49m\u001B[38;5;241;43m=\u001B[39;49m\u001B[43mobjective_function\u001B[49m\u001B[43m,\u001B[49m\u001B[43m \u001B[49m\u001B[43mdomain\u001B[49m\u001B[38;5;241;43m=\u001B[39;49m\u001B[43mdomain\u001B[49m\u001B[43m,\u001B[49m\u001B[43m \u001B[49m\u001B[43mdemander_number\u001B[49m\u001B[38;5;241;43m=\u001B[39;49m\u001B[38;5;241;43m80\u001B[39;49m\u001B[43m,\u001B[49m\u001B[43m \u001B[49m\u001B[43msupplier_number\u001B[49m\u001B[38;5;241;43m=\u001B[39;49m\u001B[38;5;241;43m20\u001B[39;49m\u001B[43m,\u001B[49m\u001B[43m \u001B[49m\u001B[43mmax_friends\u001B[49m\u001B[38;5;241;43m=\u001B[39;49m\u001B[38;5;241;43m20\u001B[39;49m\u001B[43m,\u001B[49m\u001B[43m \u001B[49m\u001B[43mcharacteristics_length\u001B[49m\u001B[38;5;241;43m=\u001B[39;49m\u001B[43mnp\u001B[49m\u001B[38;5;241;43m.\u001B[39;49m\u001B[43msqrt\u001B[49m\u001B[43m(\u001B[49m\u001B[38;5;28;43mlen\u001B[39;49m\u001B[43m(\u001B[49m\u001B[43mdomain\u001B[49m\u001B[43m)\u001B[49m\u001B[43m)\u001B[49m\u001B[43m,\u001B[49m\u001B[43m \u001B[49m\u001B[43mk_sigma_d\u001B[49m\u001B[38;5;241;43m=\u001B[39;49m\u001B[38;5;241;43m0.7\u001B[39;49m\u001B[43m,\u001B[49m\u001B[43m \u001B[49m\u001B[43mk_sigma_s\u001B[49m\u001B[38;5;241;43m=\u001B[39;49m\u001B[38;5;241;43m0.7\u001B[39;49m\u001B[43m,\u001B[49m\u001B[43m \u001B[49m\u001B[43mk_num_s\u001B[49m\u001B[38;5;241;43m=\u001B[39;49m\u001B[38;5;241;43m0.4\u001B[39;49m\u001B[43m)\u001B[49m\n\u001B[1;32m      8\u001B[0m \u001B[38;5;66;03m#\u001B[39;00m\n\u001B[1;32m      9\u001B[0m \u001B[38;5;66;03m# (self, objective_function, domain, demander_number, supplier_number, max_friends, characteristics_length, k_sigma_d, k_sigma_s, k_num_s, demanders=None, suppliers = None):\u001B[39;00m\n",
      "Cell \u001B[0;32mIn[13], line 10\u001B[0m, in \u001B[0;36mMarket.__init__\u001B[0;34m(self, objective_function, domain, demander_number, supplier_number, max_friends, characteristics_length, k_sigma_d, k_sigma_s, k_num_s, demanders, suppliers)\u001B[0m\n\u001B[1;32m      8\u001B[0m     \u001B[38;5;28mself\u001B[39m\u001B[38;5;241m.\u001B[39mdemanders \u001B[38;5;241m=\u001B[39m demanders\n\u001B[1;32m      9\u001B[0m \u001B[38;5;28;01mif\u001B[39;00m suppliers \u001B[38;5;129;01mis\u001B[39;00m \u001B[38;5;28;01mNone\u001B[39;00m:\n\u001B[0;32m---> 10\u001B[0m     \u001B[38;5;28mself\u001B[39m\u001B[38;5;241m.\u001B[39msuppliers \u001B[38;5;241m=\u001B[39m [suppliers(Property(np\u001B[38;5;241m.\u001B[39mrandom\u001B[38;5;241m.\u001B[39muniform(size\u001B[38;5;241m=\u001B[39m(dimension,)), objective_function, domain)) \u001B[38;5;28;01mfor\u001B[39;00m _ \u001B[38;5;129;01min\u001B[39;00m \u001B[38;5;28mrange\u001B[39m(demander_number)]\n\u001B[1;32m     11\u001B[0m \u001B[38;5;28;01melse\u001B[39;00m:\n\u001B[1;32m     12\u001B[0m     \u001B[38;5;28mself\u001B[39m\u001B[38;5;241m.\u001B[39msuppliers \u001B[38;5;241m=\u001B[39m suppliers\n",
      "Cell \u001B[0;32mIn[13], line 10\u001B[0m, in \u001B[0;36m<listcomp>\u001B[0;34m(.0)\u001B[0m\n\u001B[1;32m      8\u001B[0m     \u001B[38;5;28mself\u001B[39m\u001B[38;5;241m.\u001B[39mdemanders \u001B[38;5;241m=\u001B[39m demanders\n\u001B[1;32m      9\u001B[0m \u001B[38;5;28;01mif\u001B[39;00m suppliers \u001B[38;5;129;01mis\u001B[39;00m \u001B[38;5;28;01mNone\u001B[39;00m:\n\u001B[0;32m---> 10\u001B[0m     \u001B[38;5;28mself\u001B[39m\u001B[38;5;241m.\u001B[39msuppliers \u001B[38;5;241m=\u001B[39m [\u001B[43msuppliers\u001B[49m\u001B[43m(\u001B[49m\u001B[43mProperty\u001B[49m\u001B[43m(\u001B[49m\u001B[43mnp\u001B[49m\u001B[38;5;241;43m.\u001B[39;49m\u001B[43mrandom\u001B[49m\u001B[38;5;241;43m.\u001B[39;49m\u001B[43muniform\u001B[49m\u001B[43m(\u001B[49m\u001B[43msize\u001B[49m\u001B[38;5;241;43m=\u001B[39;49m\u001B[43m(\u001B[49m\u001B[43mdimension\u001B[49m\u001B[43m,\u001B[49m\u001B[43m)\u001B[49m\u001B[43m)\u001B[49m\u001B[43m,\u001B[49m\u001B[43m \u001B[49m\u001B[43mobjective_function\u001B[49m\u001B[43m,\u001B[49m\u001B[43m \u001B[49m\u001B[43mdomain\u001B[49m\u001B[43m)\u001B[49m\u001B[43m)\u001B[49m \u001B[38;5;28;01mfor\u001B[39;00m _ \u001B[38;5;129;01min\u001B[39;00m \u001B[38;5;28mrange\u001B[39m(demander_number)]\n\u001B[1;32m     11\u001B[0m \u001B[38;5;28;01melse\u001B[39;00m:\n\u001B[1;32m     12\u001B[0m     \u001B[38;5;28mself\u001B[39m\u001B[38;5;241m.\u001B[39msuppliers \u001B[38;5;241m=\u001B[39m suppliers\n",
      "\u001B[0;31mTypeError\u001B[0m: 'NoneType' object is not callable"
     ]
    }
   ],
   "source": [
    "location = np.random.uniform(size=(2,))\n",
    "\n",
    "domain = np.array([[-65, 65], [-65, 65]])\n",
    "\n",
    "p_1 = Property(location, objective_function, domain)\n",
    " # objective_function, domain, demander_number, supplier_number, max_friends, characteristics_length, k_sigma_d, k_sigma_s, k_num_s, demanders=None, suppliers = None):\n",
    "market = Market(objective_function=objective_function, domain=domain, demander_number=80, supplier_number=20, max_friends=20, characteristics_length=np.sqrt(len(domain)), k_sigma_d=0.7, k_sigma_s=0.7, k_num_s=0.4)\n",
    "#\n",
    "# (self, objective_function, domain, demander_number, supplier_number, max_friends, characteristics_length, k_sigma_d, k_sigma_s, k_num_s, demanders=None, suppliers = None):"
   ]
  },
  {
   "cell_type": "code",
   "execution_count": null,
   "outputs": [],
   "source": [],
   "metadata": {
    "collapsed": false
   }
  }
 ],
 "metadata": {
  "kernelspec": {
   "display_name": "Python 3",
   "language": "python",
   "name": "python3"
  },
  "language_info": {
   "codemirror_mode": {
    "name": "ipython",
    "version": 3
   },
   "file_extension": ".py",
   "mimetype": "text/x-python",
   "name": "python",
   "nbconvert_exporter": "python",
   "pygments_lexer": "ipython3",
   "version": "3.10.2 (v3.10.2:a58ebcc701, Jan 13 2022, 14:50:16) [Clang 13.0.0 (clang-1300.0.29.30)]"
  },
  "orig_nbformat": 4,
  "vscode": {
   "interpreter": {
    "hash": "98590ff4fe04c8543246b2a01debd3de3c5ca9b666f43f1fa87d5110c692004c"
   }
  }
 },
 "nbformat": 4,
 "nbformat_minor": 2
}
