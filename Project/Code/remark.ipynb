{
 "cells": [
  {
   "cell_type": "code",
   "execution_count": null,
   "metadata": {
    "collapsed": false
   },
   "outputs": [],
   "source": [
    "import numpy as np\n",
    "# import pandas as pd"
   ]
  },
  {
   "cell_type": "code",
   "execution_count": null,
   "metadata": {
    "collapsed": false
   },
   "outputs": [],
   "source": [
    "def objective_function(location):\n",
    "    return np.sum(location**2)\n",
    "\n",
    "def denorm(data, domain):\n",
    "    domain.sort()\n",
    "    return data * (domain[:, 1] - domain[:, 0]) + domain[:, 0] # data * (max - min) + min"
   ]
  },
  {
   "cell_type": "code",
   "execution_count": null,
   "metadata": {
    "collapsed": false
   },
   "outputs": [],
   "source": [
    "class Property:\n",
    "    def __init__(self, location, objective_function, domain, price=None, demand=None, supply=None):\n",
    "        self.location = location\n",
    "        self.objective_function = objective_function\n",
    "        self.domain = domain\n",
    "        self.price = price\n",
    "        self.demand = demand\n",
    "        self.supply = supply\n",
    "\n",
    "    def value(self):\n",
    "        return self.objective_function(denorm(self.location, self.domain))"
   ]
  },
  {
   "cell_type": "code",
   "execution_count": 114,
   "outputs": [],
   "source": [
    "class Supplier:\n",
    "    def __int__(self, current_location):\n",
    "        self.current_location = current_location\n",
    "\n",
    "    def  move(self, ideal_property, max_value, min_value, n_supplier, k_sigma_s):\n",
    "        norm_value = (ideal_property.value  - min_value)/(max_value - min_value)\n",
    "        q_supply = (1 - norm_value)/(n_supplier + 1)\n",
    "        # next_location_mean = self.next_location.location\n",
    "        # next_location_std = k_sigma_s * abs(self.next_location.price) * np.sqrt(-2*np.log(self.purchase_power))\n",
    "        new_location = np.copy(np.random.normal(ideal_property.location, k_sigma_s*q_supply))\n",
    "        new_location[new_location>1] = 1\n",
    "        new_location[new_location<0] = 0\n",
    "        self.current_location.location = np.copy(new_location)"
   ],
   "metadata": {
    "collapsed": false
   }
  },
  {
   "cell_type": "code",
   "execution_count": 113,
   "metadata": {
    "collapsed": false
   },
   "outputs": [],
   "source": [
    "class Demander:\n",
    "    def __init__(self, current_location, objective_function,\n",
    "                 friend=None, best_location=None, next_location=None, purchase_power=None):\n",
    "        self.current_location = current_location\n",
    "        if best_location is None:\n",
    "            self.best_location = Property(np.copy(current_location.location), current_location.objective_function, current_location.domain)\n",
    "        else:\n",
    "            self.best_location = best_location\n",
    "        if next_location is None:\n",
    "            self.next_location = Property(np.copy(current_location.location), current_location.objective_function, current_location.domain)\n",
    "        else:\n",
    "            self.next_location = next_location\n",
    "        self.objective_function = objective_function\n",
    "        if friend is None:\n",
    "            self.friend = []\n",
    "        else:\n",
    "            self.friend = friend\n",
    "        if purchase_power is None:\n",
    "            self.purchase_power = np.random.rand()\n",
    "\n",
    "    def add_friend(self, demander_friend):\n",
    "        self.friend.append(demander_friend)\n",
    "\n",
    "    def move(self):\n",
    "        self.current_location = self.next_location\n",
    "        if self.next_location.value() > self.best_location.value():\n",
    "            self.best_location = self.current_location\n",
    "\n",
    "    def communication(self, k_sigma_d):\n",
    "        self.next_location = Property(location=np.copy(self.best_location.location), objective_function=self.best_location.objective_function, domain=self.best_location.domain, price=self.best_location.price)\n",
    "\n",
    "        for i in self.friend:\n",
    "            if i.best_location.value > self.best_location.value:\n",
    "                self.next_location = Property(np.copy(i.best_location.location), i.best_location.objective_function, i.best_location.domain)\n",
    "\n",
    "        next_location_mean = self.next_location.location\n",
    "        next_location_std = k_sigma_d * abs(self.next_location.price) * np.sqrt(-2*np.log(self.purchase_power))\n",
    "\n",
    "        new_location = np.random.normal(next_location_mean, next_location_std)\n",
    "        new_location[new_location>1] = 1\n",
    "        new_location[new_location<0] = 0\n",
    "\n",
    "        self.next_location = Property(np.copy(new_location), i.best_location.objective_function, i.best_location.domain)"
   ]
  },
  {
   "cell_type": "code",
   "execution_count": 3,
   "outputs": [],
   "source": [
    "class Market:\n",
    "    def __int__(self, objective_function, domain, demander_number, demanders, supplier_number, suppliers, max_friends, characteristics_length, k_sigma_d, k_sigma_s, k_num_s):\n",
    "        self.max_friends = max_friends\n",
    "        dimension = len(domain)\n",
    "        self.demanders = [Demander(Property(np.random.uniform(size=(dimension,)), objective_function, domain), objective_function) for _ in range(demander_number)]\n",
    "        self.suppliers = [suppliers(Property(np.random.uniform(size=(dimension,)), objective_function, domain)) for _ in range(demander_number)]\n",
    "        self.characteristics_length = characteristics_length\n",
    "        self.k_sigma_d = k_sigma_d\n",
    "        self.k_num_s = k_num_s\n",
    "        self.k_sigma_s = k_sigma_s\n",
    "\n",
    "    def make_friend(self):\n",
    "        for i in self.demanders:\n",
    "            i.friend = []\n",
    "            [i.add_friend(np.copy(j)) for j in self.demanders[np.random.choice(len(self.demanders), size=self.max_friends, replace=False)]]\n",
    "\n",
    "    def demand_evaluation(self):\n",
    "        occupied_property = []\n",
    "        [occupied_property.append(np.copy(i.current_location.location)) for i in self.demanders]\n",
    "        for i in self.demanders:\n",
    "            i.current_location.demand = (1/self.characteristics_length/len(self.demanders)) * sum(self.characteristics_length - np.sqrt(np.sum((i.current_location.loc - occupied_property)**2)))\n",
    "            i.best_location.demand = np.copy(i.current_location.demand) #### bug in sum(self.characteristics_length - np.sqrt(np.sum((i.current_location.loc - occupied_property)**2))) calculation dont have bug but check in debug\n",
    "\n",
    "    def supply_evaluation(self):\n",
    "        occupied_property = []\n",
    "        [occupied_property.append(np.copy(i.current_location.location)) for i in self.suppliers]\n",
    "        for i in self.demanders:\n",
    "            i.current_location.demand = (1/self.characteristics_length/len(self.suppliers)) * sum(self.characteristics_length - np.sqrt(np.sum((i.current_location.loc - occupied_property)**2)))\n",
    "            i.best_location.demand = np.copy(i.current_location.demand)\n",
    "\n",
    "    def price_evaluation(self):\n",
    "        self.demand_evaluation()\n",
    "        self.supply_evaluation()\n",
    "        for i in self.demanders:\n",
    "            i.current_location.price = i.current_location.demand - i.current_location.supply\n",
    "            i.best_location.price = i.best_location.demand - i.best_location.supply\n",
    "\n",
    "    def demander_update(self):\n",
    "        for i in self.demanders:\n",
    "            i.communication(self.k_sigma_d)\n",
    "            i.move()\n",
    "\n",
    "    def supplier_update(self):\n",
    "        n_supplier = np.ceil(self.k_num_s*len(self.suppliers))\n",
    "        # selected = randi(length(obj.spl), 1, nSupplier);\n",
    "        # selected_supplier = np.array([np.copy(i) for i in self.suppliers[np.random.choice(len(self.suppliers), size=self.max_friends, replace=False)]])\n",
    "        max_value = -np.inf\n",
    "        max_price = -np.inf\n",
    "        min_value =  np.inf\n",
    "\n",
    "        for i in self.demanders:\n",
    "            if i.best_location.value > max_value:\n",
    "                max_value = np.copy(i.best_location.value)\n",
    "            if i.current_location.value > max_value:\n",
    "                max_value = np.copy(i.current_location.value)\n",
    "            if i.best_location.value < min_value:\n",
    "                min_value = np.copy(i.best_location.value)\n",
    "            if i.current_location.value < min_value:\n",
    "                min_value = np.copy(i.current_location.value)\n",
    "            if i.current_location.price > max_price:\n",
    "                max_price = np.copy(i.current_location.price)\n",
    "                ideal_property = i.current_location\n",
    "            if i.best_location.price > max_price:\n",
    "                max_price = np.copy(i.best_location.price)\n",
    "                ideal_property = i.best_location\n",
    "\n",
    "\n",
    "        [i.move(ideal_property, max_value, min_value, n_supplier, self.k_sigma_s) for i in self.suppliers[np.random.choice(len(self.suppliers), size=self.max_friends, replace=False)]]"
   ],
   "metadata": {
    "collapsed": false
   }
  },
  {
   "cell_type": "code",
   "execution_count": null,
   "metadata": {
    "collapsed": false
   },
   "outputs": [],
   "source": [
    "location = np.random.uniform(size=(2,))\n",
    "\n",
    "domain = np.array([[-65, 65], [-65, 65]])\n",
    "\n",
    "p_1 = Property(location, objective_function, domain)\n",
    "\n"
   ]
  },
  {
   "cell_type": "code",
   "execution_count": null,
   "metadata": {
    "collapsed": false
   },
   "outputs": [],
   "source": [
    "print(p_1.location)"
   ]
  },
  {
   "cell_type": "code",
   "execution_count": null,
   "metadata": {
    "collapsed": false
   },
   "outputs": [],
   "source": [
    "d_1 = Demander(Property(np.random.uniform(size=(2,)), objective_function, domain), objective_function)"
   ]
  },
  {
   "cell_type": "markdown",
   "source": [],
   "metadata": {
    "collapsed": false
   }
  },
  {
   "cell_type": "code",
   "execution_count": null,
   "outputs": [],
   "source": [
    "print(d_1.friend)"
   ],
   "metadata": {
    "collapsed": false
   }
  },
  {
   "cell_type": "code",
   "execution_count": null,
   "outputs": [],
   "source": [
    "print(d_1.current_location.location)\n",
    "d_1.next_location.location = np.array([100, -100])\n",
    "print(d_1.current_location.location)"
   ],
   "metadata": {
    "collapsed": false
   }
  },
  {
   "cell_type": "code",
   "execution_count": null,
   "outputs": [],
   "source": [
    "print(d_1.next_location.value())\n",
    "print(d_1.current_location.value())"
   ],
   "metadata": {
    "collapsed": false
   }
  },
  {
   "cell_type": "code",
   "execution_count": null,
   "outputs": [],
   "source": [
    "print(d_1.current_location.location)\n",
    "d_1.move()\n",
    "print(d_1.current_location.location)\n"
   ],
   "metadata": {
    "collapsed": false
   }
  },
  {
   "cell_type": "code",
   "execution_count": null,
   "outputs": [],
   "source": [
    "d_2 = Demander(p_1, objective_function)\n",
    "d_2.current_location()"
   ],
   "metadata": {
    "collapsed": false
   }
  },
  {
   "cell_type": "code",
   "execution_count": null,
   "outputs": [],
   "source": [
    "d_2.friend"
   ],
   "metadata": {
    "collapsed": false
   }
  },
  {
   "cell_type": "code",
   "execution_count": null,
   "outputs": [],
   "source": [
    "d_1.add_friend(d_2)"
   ],
   "metadata": {
    "collapsed": false
   }
  },
  {
   "cell_type": "code",
   "execution_count": null,
   "outputs": [],
   "source": [
    "d_1.friend"
   ],
   "metadata": {
    "collapsed": false
   }
  },
  {
   "cell_type": "code",
   "execution_count": null,
   "outputs": [],
   "source": [
    "d_1.add_friend(d_1)"
   ],
   "metadata": {
    "collapsed": false
   }
  },
  {
   "cell_type": "code",
   "execution_count": null,
   "outputs": [],
   "source": [
    "d_1.friend"
   ],
   "metadata": {
    "collapsed": false
   }
  },
  {
   "cell_type": "code",
   "execution_count": null,
   "outputs": [],
   "source": [],
   "metadata": {
    "collapsed": false
   }
  },
  {
   "cell_type": "code",
   "execution_count": 112,
   "outputs": [
    {
     "name": "stdout",
     "output_type": "stream",
     "text": [
      "[627.6759635323754, 338008450, 627.6759635323754, 338008450]\n"
     ]
    }
   ],
   "source": [
    "a = []\n",
    "[a.append(i.best_location.value()) for i in d_1.friend]\n",
    "print(a)"
   ],
   "metadata": {
    "collapsed": false
   }
  },
  {
   "cell_type": "code",
   "execution_count": 111,
   "outputs": [
    {
     "data": {
      "text/plain": "[]"
     },
     "execution_count": 111,
     "metadata": {},
     "output_type": "execute_result"
    }
   ],
   "source": [
    "a[0]"
   ],
   "metadata": {
    "collapsed": false
   }
  },
  {
   "cell_type": "code",
   "execution_count": null,
   "outputs": [],
   "source": [
    "type(a[0])"
   ],
   "metadata": {
    "collapsed": false
   }
  },
  {
   "cell_type": "code",
   "execution_count": null,
   "outputs": [],
   "source": [
    "max(a)\n"
   ],
   "metadata": {
    "collapsed": false
   }
  },
  {
   "cell_type": "code",
   "execution_count": null,
   "outputs": [],
   "source": [
    "np.argmax(a)"
   ],
   "metadata": {
    "collapsed": false
   }
  },
  {
   "cell_type": "code",
   "execution_count": null,
   "outputs": [],
   "source": [
    "a"
   ],
   "metadata": {
    "collapsed": false
   }
  },
  {
   "cell_type": "code",
   "execution_count": null,
   "outputs": [],
   "source": [
    "d_2.current_location.location"
   ],
   "metadata": {
    "collapsed": false
   }
  },
  {
   "cell_type": "code",
   "execution_count": null,
   "outputs": [],
   "source": [],
   "metadata": {
    "collapsed": false
   }
  }
 ],
 "metadata": {
  "kernelspec": {
   "display_name": "Python 3",
   "language": "python",
   "name": "python3"
  },
  "language_info": {
   "codemirror_mode": {
    "name": "ipython",
    "version": 3
   },
   "file_extension": ".py",
   "mimetype": "text/x-python",
   "name": "python",
   "nbconvert_exporter": "python",
   "pygments_lexer": "ipython3",
   "version": "3.10.2 (v3.10.2:a58ebcc701, Jan 13 2022, 14:50:16) [Clang 13.0.0 (clang-1300.0.29.30)]"
  },
  "orig_nbformat": 4,
  "vscode": {
   "interpreter": {
    "hash": "98590ff4fe04c8543246b2a01debd3de3c5ca9b666f43f1fa87d5110c692004c"
   }
  }
 },
 "nbformat": 4,
 "nbformat_minor": 2
}
