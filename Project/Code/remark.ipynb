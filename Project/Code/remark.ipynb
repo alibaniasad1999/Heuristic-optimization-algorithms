{
 "cells": [
  {
   "cell_type": "code",
   "execution_count": 1,
   "metadata": {
    "collapsed": false
   },
   "outputs": [],
   "source": [
    "import numpy as np\n",
    "# import pandas as pd"
   ]
  },
  {
   "cell_type": "code",
   "execution_count": 13,
   "metadata": {
    "collapsed": false
   },
   "outputs": [],
   "source": [
    "def objective_function(location):\n",
    "    return np.sum(location**2)\n",
    "\n",
    "def denorm(data, domain):\n",
    "    domain.sort()\n",
    "    return data * (domain[:, 1] - domain[:, 0]) + domain[:, 0] # data * (max - min) + min"
   ]
  },
  {
   "cell_type": "code",
   "execution_count": 14,
   "metadata": {
    "collapsed": false
   },
   "outputs": [],
   "source": [
    "class Property:\n",
    "    def __init__(self, location, objective_function, domain, price=None, demand=None, supply=None):\n",
    "        self.location = location\n",
    "        self.objective_function = objective_function\n",
    "        self.domain = domain\n",
    "        self.price = price\n",
    "        self.demand = demand\n",
    "        self.supply = supply\n",
    "\n",
    "    def value(self):\n",
    "        return self.objective_function(denorm(self.location, self.domain))"
   ]
  },
  {
   "cell_type": "code",
   "execution_count": 40,
   "metadata": {
    "collapsed": false
   },
   "outputs": [],
   "source": [
    "class Demander:\n",
    "    def __init__(self, current_location, objective_function,\n",
    "                 friend=None, best_location=None, next_location=None, purchase_power=None):\n",
    "        self.current_location = current_location\n",
    "        if best_location is None:\n",
    "            self.best_location = current_location\n",
    "        else:\n",
    "            self.best_location = best_location\n",
    "        if next_location is None:\n",
    "            self.next_location = current_location\n",
    "        else:\n",
    "            self.next_location = next_location\n",
    "        self.objective_function = objective_function\n",
    "        if friend is None:\n",
    "            self.friend = []\n",
    "        else:\n",
    "            self.friend = friend\n",
    "        self.friend = friend\n",
    "        if purchase_power is None:\n",
    "            self.purchase_power = np.random.rand()\n",
    "\n",
    "    def cost_function(self):\n",
    "        return self.objective_function(self.current_location)\n",
    "\n",
    "    def add_friend(self, demander_friend):\n",
    "        self.friend.append(demander_friend)\n",
    "\n",
    "    # def move(self):\n",
    "    #     self.current_location = self.next_location\n",
    "    #     if self.cost_function() > self.objective_function(self.best_location):\n",
    "    #         self.best_location = self.current_location"
   ]
  },
  {
   "cell_type": "code",
   "execution_count": 31,
   "metadata": {
    "collapsed": false
   },
   "outputs": [
    {
     "name": "stdout",
     "output_type": "stream",
     "text": [
      "0.5395308189421046\n"
     ]
    }
   ],
   "source": [
    "location = np.random.uniform(low=-1, high=1, size=(2,))\n",
    "dimension = len(location)\n",
    "\n",
    "demander = Demander(current_location=location, objective_function=objective_function)\n",
    "\n",
    "print(demander.cost_function())\n"
   ]
  },
  {
   "cell_type": "code",
   "execution_count": 34,
   "metadata": {
    "collapsed": false
   },
   "outputs": [],
   "source": [
    "location = np.random.uniform(low=-1, high=1, size=(2,))\n",
    "\n",
    "demander_1 = Demander(current_location=location, objective_function=objective_function)"
   ]
  },
  {
   "cell_type": "code",
   "execution_count": 35,
   "metadata": {
    "collapsed": false
   },
   "outputs": [],
   "source": [
    "demander_1.add_friend(demander)"
   ]
  },
  {
   "cell_type": "code",
   "execution_count": 38,
   "metadata": {
    "collapsed": false
   },
   "outputs": [
    {
     "name": "stdout",
     "output_type": "stream",
     "text": [
      "[-0.10493076 -0.72699405]\n"
     ]
    }
   ],
   "source": [
    "print(demander_1.friend[0].current_location)\n"
   ]
  },
  {
   "cell_type": "code",
   "execution_count": 20,
   "metadata": {
    "collapsed": false
   },
   "outputs": [
    {
     "name": "stdout",
     "output_type": "stream",
     "text": [
      "[-0.42455397 -0.47852641]\n"
     ]
    }
   ],
   "source": [
    "print(demander_1.location)"
   ]
  },
  {
   "cell_type": "code",
   "execution_count": 17,
   "metadata": {
    "collapsed": false
   },
   "outputs": [],
   "source": [
    "d1 = Property(np.array([0.1, 0.5]), objective_function, domain=np.array([[-65, 65], [-1, 1]]))"
   ]
  },
  {
   "cell_type": "code",
   "execution_count": 18,
   "metadata": {
    "collapsed": false
   },
   "outputs": [
    {
     "data": {
      "text/plain": "2704.0"
     },
     "execution_count": 18,
     "metadata": {},
     "output_type": "execute_result"
    }
   ],
   "source": [
    "d1.value()"
   ]
  },
  {
   "cell_type": "code",
   "execution_count": null,
   "metadata": {
    "collapsed": false
   },
   "outputs": [],
   "source": []
  }
 ],
 "metadata": {
  "kernelspec": {
   "display_name": "Python 3",
   "language": "python",
   "name": "python3"
  },
  "language_info": {
   "codemirror_mode": {
    "name": "ipython",
    "version": 3
   },
   "file_extension": ".py",
   "mimetype": "text/x-python",
   "name": "python",
   "nbconvert_exporter": "python",
   "pygments_lexer": "ipython3",
   "version": "3.10.2 (v3.10.2:a58ebcc701, Jan 13 2022, 14:50:16) [Clang 13.0.0 (clang-1300.0.29.30)]"
  },
  "orig_nbformat": 4,
  "vscode": {
   "interpreter": {
    "hash": "98590ff4fe04c8543246b2a01debd3de3c5ca9b666f43f1fa87d5110c692004c"
   }
  }
 },
 "nbformat": 4,
 "nbformat_minor": 2
}
