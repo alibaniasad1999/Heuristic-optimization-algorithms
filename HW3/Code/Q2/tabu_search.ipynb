{
 "cells": [
  {
   "cell_type": "code",
   "execution_count": 1,
   "metadata": {},
   "outputs": [],
   "source": [
    "# Tanu search for the best path to visit all the cities\n",
    "import numpy as np\n",
    "import random\n",
    "import math\n",
    "import pandas as pd"
   ]
  },
  {
   "cell_type": "code",
   "execution_count": 2,
   "metadata": {},
   "outputs": [],
   "source": [
    "def cost_calculator(city_array):\n",
    "    num = 0\n",
    "    list_city = [[], [], []]\n",
    "    # seperate the city_array into 3 lists\n",
    "    for i in city_array:\n",
    "        if i != -1:\n",
    "            list_city[num].append(i)\n",
    "        else:\n",
    "            num += 1\n",
    "    # calculate the cost of each list\n",
    "    location = np.array([[-19, 25, -40, 2 ,  21, -21, 41, -25, 33,  44],\n",
    "                [-5 ,-40, -24, 47, -19,  35, 13, -42,  8, -44]])\n",
    "    new_location = np.empty((10, 2))\n",
    "    origin = np.array([0, 0])\n",
    "    for i in range(len(location[0])):\n",
    "        new_location[i] = location[:, i]\n",
    "    \n",
    "    cost = np.zeros(3)\n",
    "\n",
    "    for i in list_city:\n",
    "        for j in range(len(i)):\n",
    "            if j == 0:\n",
    "                cost[list_city.index(i)] += np.linalg.norm(new_location[i[j]] - origin)\n",
    "            else:\n",
    "                cost[list_city.index(i)] += np.linalg.norm(new_location[i[j]] - new_location[i[j-1]])\n",
    "\n",
    "    return max(cost)"
   ]
  },
  {
   "cell_type": "code",
   "execution_count": null,
   "metadata": {},
   "outputs": [],
   "source": [
    "def swap_random(city_list):\n",
    "    idx = range(len(city_list))\n",
    "    i1, i2 = random.sample(idx, 2)\n",
    "    city_list[i1], city_list[i2] = city_list[i2], city_list[i1]"
   ]
  }
 ],
 "metadata": {
  "kernelspec": {
   "display_name": "Python 3",
   "language": "python",
   "name": "python3"
  },
  "language_info": {
   "codemirror_mode": {
    "name": "ipython",
    "version": 3
   },
   "file_extension": ".py",
   "mimetype": "text/x-python",
   "name": "python",
   "nbconvert_exporter": "python",
   "pygments_lexer": "ipython3",
   "version": "3.8.10"
  },
  "orig_nbformat": 4,
  "vscode": {
   "interpreter": {
    "hash": "31f2aee4e71d21fbe5cf8b01ff0e069b9275f58929596ceb00d14d90e3e16cd6"
   }
  }
 },
 "nbformat": 4,
 "nbformat_minor": 2
}
